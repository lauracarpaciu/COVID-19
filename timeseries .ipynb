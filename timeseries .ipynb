{
 "cells": [
  {
   "cell_type": "markdown",
   "metadata": {},
   "source": [
    "# Time series forecasting using Recurrent Neural Networks (RNNs)."
   ]
  },
  {
   "cell_type": "raw",
   "metadata": {},
   "source": [
    "A Recurrent Neural Network (RNN) is a type of neural network well-suited to time series data. RNNs process a time series step-by-step, maintaining an internal state summarizing the information they've seen so far.\n",
    "\n",
    "I collected the link from a public GitHub link by the NYT. It is opened to the public. According to the authors, \"The data is the product of dozens of journalists working across several time zones to monitor news conferences, analyze data releases and seek clarification from public officials on how they categorize cases\". \n",
    "Located at:https://raw.githubusercontent.com/nytimes/covid-19-data/master/us-counties.csv \n",
    "This dataset contains 6 different features such as date, county, state,\tfips, cases,deaths. These were collected every single day."
   ]
  },
  {
   "cell_type": "markdown",
   "metadata": {},
   "source": [
    "Let's first extract only the 'cases ' from the dataset. Let's observe how this data looks across time."
   ]
  },
  {
   "cell_type": "code",
   "execution_count": 5,
   "metadata": {},
   "outputs": [
    {
     "data": {
      "image/png": "[encoded data removed]",
      "text/plain": [
       "<Figure size 432x288 with 1 Axes>"
      ]
     },
     "metadata": {
      "needs_background": "light"
     },
     "output_type": "display_data"
    }
   ],
   "source": [
    "import os\n",
    "from keras.models import Sequential\n",
    "from sklearn.preprocessing import MinMaxScaler\n",
    "from tensorflow.python import keras\n",
    "from keras.preprocessing.sequence import TimeseriesGenerator\n",
    "from keras.models import Sequential\n",
    "from keras.layers import Dense\n",
    "from keras.layers import LSTM\n",
    "from sklearn.preprocessing import MinMaxScaler\n",
    "from sklearn.metrics import mean_squared_error\n",
    "import numpy as np\n",
    "from pandas import read_csv\n",
    "import pandas as pd\n",
    "import matplotlib.pyplot as plt\n",
    "\n",
    "dataset = pd.read_csv('C:\\\\Users\\\\Mirela\\\\PycharmProjects\\\\Covid_19\\\\us-counties.csv',\n",
    "                      usecols=[5]).values.astype('float64')\n",
    "\n",
    "\n",
    "def delta_time_series(data):\n",
    "# Shift features and labels one step relative to each other\n",
    "    return data[1:]- data[:-1]\n",
    "\n",
    "dataset = delta_time_series(dataset)\n",
    "\n",
    "dataset.shape\n",
    "\n",
    "def plot_delta(data):\n",
    "    plt.plot(delta_time_series(data))\n",
    "    plt.ylabel('cases')\n",
    "    plt.show()\n",
    "    \n",
    "plot_delta(dataset)  "
   ]
  },
  {
   "cell_type": "code",
   "execution_count": 6,
   "metadata": {},
   "outputs": [],
   "source": [
    "# Helper function to get y as a numpy array from the TimeseriesGenerator\n",
    "def get_y_from_generator(gen):\n",
    "    '''\n",
    "    Get all targets y from a TimeseriesGenerator instance.\n",
    "    '''\n",
    "    y = None\n",
    "    for i in range(len(gen)):\n",
    "        batch_y = gen[i][1]\n",
    "        if y is None:\n",
    "            y = batch_y\n",
    "        else:\n",
    "            y = np.append(y, batch_y)\n",
    "    y = y.reshape((-1,1))\n",
    "    print(y.shape)\n",
    "    return y"
   ]
  },
  {
   "cell_type": "markdown",
   "metadata": {},
   "source": [
    "The first 16,000 rows of the data will be the training dataset, and there remaining will be the validation  and  test dataset .\n",
    "It is important to scale features before training a neural network. Standardization is a common way of doing this scaling by subtracting the mean and dividing by the standard deviation of each feature.\n",
    "The model will be given the last 100 recorded 'cases' observations, and needs to learn to predict the cases at the next time step."
   ]
  },
  {
   "cell_type": "code",
   "execution_count": 7,
   "metadata": {},
   "outputs": [],
   "source": [
    "# normalize the dataset\n",
    "scaler = MinMaxScaler(feature_range=(0, 1))\n",
    "dataset = scaler.fit_transform(dataset)\n",
    "\n",
    "# split into train and test sets\n",
    "\n",
    "train, val, test = dataset[0:16000, :], dataset[16001:17000, :], dataset[17001:None, :]\n",
    "\n",
    "lookback = 100\n",
    "step = 1\n",
    "batch_size = 128\n",
    "\n",
    "train_data_gen = TimeseriesGenerator(train, train,\n",
    "                                     length=lookback, sampling_rate=step, stride=1,shuffle=True,\n",
    "                                     batch_size=batch_size)\n",
    "\n",
    "val_data_gen = TimeseriesGenerator(val, val,\n",
    "                                   length=lookback, sampling_rate=step, stride=1,\n",
    "                                   batch_size=batch_size)\n",
    "\n",
    "test_data_gen = TimeseriesGenerator(test, test,\n",
    "                                    length=lookback, sampling_rate=step, stride=1,\n",
    "                                    batch_size=batch_size)\n",
    "\n",
    "val_steps = (17000 - 16001 - lookback)\n",
    "test_steps = (len(dataset) - 17001 - lookback)"
   ]
  },
  {
   "cell_type": "markdown",
   "metadata": {},
   "source": [
    "I  will train a model using only a single feature (cases), and use it to make predictions for that value in the future."
   ]
  },
  {
   "cell_type": "code",
   "execution_count": 8,
   "metadata": {},
   "outputs": [
    {
     "name": "stdout",
     "output_type": "stream",
     "text": [
      "Epoch 1/10\n",
      "200/200 [==============================] - 27s 133ms/step - loss: 0.0543 - val_loss: 0.0306\n",
      "Epoch 2/10\n",
      "200/200 [==============================] - 28s 139ms/step - loss: 0.0151 - val_loss: 0.0130\n",
      "Epoch 3/10\n",
      "200/200 [==============================] - 26s 131ms/step - loss: 0.0119 - val_loss: 0.0079\n",
      "Epoch 4/10\n",
      "200/200 [==============================] - 28s 139ms/step - loss: 0.0102 - val_loss: 0.0050\n",
      "Epoch 5/10\n",
      "200/200 [==============================] - 34s 172ms/step - loss: 0.0093 - val_loss: 0.0089\n",
      "Epoch 6/10\n",
      "200/200 [==============================] - 34s 170ms/step - loss: 0.0085 - val_loss: 0.0017\n",
      "Epoch 7/10\n",
      "200/200 [==============================] - 35s 173ms/step - loss: 0.0081 - val_loss: 0.0013\n",
      "Epoch 8/10\n",
      "200/200 [==============================] - 34s 169ms/step - loss: 0.0077 - val_loss: 7.5571e-04\n",
      "Epoch 9/10\n",
      "200/200 [==============================] - 33s 167ms/step - loss: 0.0075 - val_loss: 6.1018e-04\n",
      "Epoch 10/10\n",
      "200/200 [==============================] - 32s 159ms/step - loss: 0.0072 - val_loss: 6.2410e-04\n"
     ]
    },
    {
     "data": {
      "image/png": "[encoded data removed]",
      "text/plain": [
       "<Figure size 432x288 with 1 Axes>"
      ]
     },
     "metadata": {
      "needs_background": "light"
     },
     "output_type": "display_data"
    }
   ],
   "source": [
    "from keras.models import Sequential\n",
    "from keras import layers\n",
    "from keras.optimizers import RMSprop\n",
    "\n",
    "model = Sequential()\n",
    "model.add(layers.GRU(32, dropout=0.2, recurrent_dropout=0.2,input_shape=(None, dataset.shape[-1])))\n",
    "model.add(layers.Dense(1))\n",
    "\n",
    "model.compile(optimizer=RMSprop(), loss='mae')\n",
    "\n",
    "history = model.fit_generator(train_data_gen,steps_per_epoch=200,epochs=10,validation_data=val_data_gen,\n",
    "validation_steps=val_steps)\n",
    "\n",
    "loss = history.history['loss']\n",
    "val_loss = history.history['val_loss']\n",
    "epochs = range(1, len(loss) + 1)\n",
    "plt.figure()\n",
    "plt.plot(epochs, loss, 'bo', label='Training loss')\n",
    "plt.plot(epochs, val_loss, 'b', label='Validation loss')\n",
    "plt.title('Training and validation loss')\n",
    "plt.legend()\n",
    "plt.show()"
   ]
  },
  {
   "cell_type": "code",
   "execution_count": 9,
   "metadata": {},
   "outputs": [
    {
     "name": "stdout",
     "output_type": "stream",
     "text": [
      "test loss: 0.0008021448738873005\n",
      "(4697, 1)\n",
      "Test Score: 0.01 RMSE\n"
     ]
    },
    {
     "data": {
      "image/png": "[encoded data removed]",
      "text/plain": [
       "<Figure size 432x288 with 1 Axes>"
      ]
     },
     "metadata": {
      "needs_background": "light"
     },
     "output_type": "display_data"
    }
   ],
   "source": [
    "test_loss = model.evaluate_generator(test_data_gen,steps=test_steps)\n",
    "print('test loss:', test_loss)\n",
    "\n",
    "testPredict = model.predict_generator(test_data_gen)\n",
    "testPredict.shape\n",
    "\n",
    "\n",
    "testY = get_y_from_generator(test_data_gen)\n",
    "\n",
    "\n",
    "from sklearn.metrics import mean_squared_error\n",
    "import math\n",
    "# calculate root mean squared error\n",
    "testScore = math.sqrt(mean_squared_error(testY[:, 0], testPredict[:,0]))\n",
    "print('Test Score: %.2f RMSE' % (testScore))\n",
    "\n",
    "# error distribution\n",
    "error = testPredict - testY\n",
    "plt.hist(error, bins = 25)\n",
    "plt.xlabel(\"Prediction Error \")\n",
    "_ = plt.ylabel(\"Count\")"
   ]
  }
 ],
 "metadata": {
  "kernelspec": {
   "display_name": "Python 3",
   "language": "python",
   "name": "python3"
  },
  "language_info": {
   "codemirror_mode": {
    "name": "ipython",
    "version": 3
   },
   "file_extension": ".py",
   "mimetype": "text/x-python",
   "name": "python",
   "nbconvert_exporter": "python",
   "pygments_lexer": "ipython3",
   "version": "3.7.3"
  }
 },
 "nbformat": 4,
 "nbformat_minor": 2
}
