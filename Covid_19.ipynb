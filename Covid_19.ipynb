{
 "cells": [
  {
   "cell_type": "code",
   "execution_count": 1,
   "metadata": {},
   "outputs": [
    {
     "name": "stdout",
     "output_type": "stream",
     "text": [
      "   Province/State  Country/Region      Lat     Long     Date  Confirmed  \\\n",
      "0  Province/State  Country/Region      Lat     Long     Date  Confirmed   \n",
      "1             NaN     Afghanistan     33.0     65.0  1/22/20          0   \n",
      "2             NaN         Albania  41.1533  20.1683  1/22/20          0   \n",
      "3             NaN         Algeria  28.0339   1.6596  1/22/20          0   \n",
      "4             NaN         Andorra  42.5063   1.5218  1/22/20          0   \n",
      "\n",
      "   Deaths  Recovered  \n",
      "0  Deaths  Recovered  \n",
      "1       0          0  \n",
      "2       0          0  \n",
      "3       0          0  \n",
      "4       0          0  \n",
      "Province/State    object\n",
      "Country/Region    object\n",
      "Lat               object\n",
      "Long              object\n",
      "Date              object\n",
      "Confirmed         object\n",
      "Deaths            object\n",
      "Recovered         object\n",
      "dtype: object\n",
      "Province/State    11832\n",
      "Country/Region        0\n",
      "Lat                   0\n",
      "Long                  0\n",
      "Date                  0\n",
      "Confirmed             0\n",
      "Deaths                0\n",
      "Recovered             0\n",
      "dtype: int64\n",
      "                  Province/State  Country/Region       Lat      Long     Date  \\\n",
      "0                 Province/State  Country/Region       Lat      Long     Date   \n",
      "9   Australian Capital Territory       Australia  -35.4735  149.0124  1/22/20   \n",
      "10               New South Wales       Australia  -33.8688  151.2093  1/22/20   \n",
      "11            Northern Territory       Australia  -12.4634  130.8456  1/22/20   \n",
      "12                    Queensland       Australia  -28.0167     153.4  1/22/20   \n",
      "\n",
      "    Confirmed  Deaths  Recovered  \n",
      "0   Confirmed  Deaths  Recovered  \n",
      "9           0       0          0  \n",
      "10          0       0          0  \n",
      "11          0       0          0  \n",
      "12          0       0          0  \n"
     ]
    }
   ],
   "source": [
    "# Load the data\n",
    "import os\n",
    "from sklearn import preprocessing, metrics\n",
    "\n",
    "# Parameters\n",
    "do_grid_search_cv = True\n",
    "do_pca = False\n",
    "import requests\n",
    "\n",
    "import numpy as np\n",
    "import pandas as pd\n",
    "import seaborn as sns\n",
    "import matplotlib.pyplot as plt\n",
    "\n",
    "# Read in the CSV file and convert \"?\" to NaN\n",
    "\n",
    "original_data = pd.read_csv('C:/Users/Mirela/PycharmProjects/Covid_19/covid_19_clean_complete.csv',\n",
    "                            names=['Province/State','Country/Region','Lat','Long','Date','Confirmed','Deaths','Recovered'\n",
    "], sep=r'\\s*,\\s*',\n",
    "                            engine='python',\n",
    "                            na_values=\"?\")\n",
    "\n",
    "print(original_data.head())\n",
    "print(original_data.dtypes)\n",
    "\n",
    "print(original_data.isna().sum())\n",
    "original_data = original_data.dropna()\n",
    "print(original_data.head())\n",
    "\n"
   ]
  },
  {
   "cell_type": "code",
   "execution_count": 2,
   "metadata": {},
   "outputs": [
    {
     "name": "stdout",
     "output_type": "stream",
     "text": [
      "    Province/State  Country/Region  Lat  Long  Date  Confirmed  Deaths  \\\n",
      "0               54               3   77    78    68        682      83   \n",
      "9                4               0    9    68     0          0       0   \n",
      "10              46               0    7    70     0          0       0   \n",
      "11              49               0    0    64     0          0       0   \n",
      "12              57               0    5    71     0          0       0   \n",
      "\n",
      "    Recovered  \n",
      "0         605  \n",
      "9           0  \n",
      "10          0  \n",
      "11          0  \n",
      "12          0  \n"
     ]
    }
   ],
   "source": [
    "# Encode the categorical features as numbers\n",
    "result = original_data.copy()\n",
    "encoders = {}\n",
    "for column in result.columns:\n",
    "\n",
    "    if result.dtypes[column] == pd.np.object:\n",
    "        encoders[column] = preprocessing.LabelEncoder()\n",
    "        result[column] = encoders[column].fit_transform(result[column])\n",
    "\n",
    "features = result\n",
    "feature_names = features.columns.get_values()\n",
    "print(features.head())"
   ]
  },
  {
   "cell_type": "code",
   "execution_count": 3,
   "metadata": {},
   "outputs": [],
   "source": [
    "# Labels are the values we want to predict\n",
    "labels = np.array(features['Country/Region']) # Create an array.\n",
    "\n",
    "# Remove the labels from the features\n",
    "# axis 1 refers to the columns\n",
    "\n",
    "features = features.drop('Country/Region', axis=1) #  Remove columns by specifying label names and coresponding axis"
   ]
  },
  {
   "cell_type": "code",
   "execution_count": 6,
   "metadata": {},
   "outputs": [],
   "source": [
    "# data normalization\n",
    "from sklearn.preprocessing import Normalizer\n",
    "\n",
    "normalizer = Normalizer()\n",
    "features = normalizer.fit_transform(features)"
   ]
  },
  {
   "cell_type": "code",
   "execution_count": 7,
   "metadata": {},
   "outputs": [
    {
     "name": "stdout",
     "output_type": "stream",
     "text": [
      "Training Features Shape: (3713, 7)\n",
      "Training Labels Shape: (3713,)\n",
      "Testing Features Shape: (1592, 7)\n",
      "Testing Labels Shape: (1592,)\n"
     ]
    }
   ],
   "source": [
    "# Using Skicit-learn to split data into training and testing sets\n",
    "\n",
    "from sklearn.model_selection import train_test_split\n",
    "\n",
    "# Split data into random train and test subsets\n",
    "train_features, test_features, train_labels, test_labels = train_test_split(features, labels, test_size=0.3,\n",
    "                                                                            random_state=42)\n",
    "# returns list containing train-test split of inputs.\n",
    "\n",
    "print('Training Features Shape:', train_features.shape)\n",
    "print('Training Labels Shape:', train_labels.shape)\n",
    "print('Testing Features Shape:', test_features.shape)\n",
    "print('Testing Labels Shape:', test_labels.shape)"
   ]
  },
  {
   "cell_type": "code",
   "execution_count": 8,
   "metadata": {},
   "outputs": [
    {
     "name": "stdout",
     "output_type": "stream",
     "text": [
      "8 classes\n"
     ]
    }
   ],
   "source": [
    "num_classes = np.max(train_labels) + 1\n",
    "print(num_classes, 'classes')"
   ]
  },
  {
   "cell_type": "code",
   "execution_count": 10,
   "metadata": {},
   "outputs": [],
   "source": [
    "import os\n",
    "from keras import Sequential\n",
    "from keras.layers import Dense, Dropout\n",
    "from sklearn import preprocessing, metrics\n",
    "\n",
    "input_dimensions = train_features.shape[1]\n",
    "optimizer = 'rmsprop'\n",
    "dropout = 0.05\n",
    "model = Sequential()\n",
    "inner_nodes = int(input_dimensions / 2)\n",
    "\n",
    "model.add(Dense(inner_nodes, kernel_initializer='uniform', activation='relu', input_dim=input_dimensions))\n",
    "model.add(Dropout(rate=dropout))\n",
    "model.add(Dense(inner_nodes, kernel_initializer='uniform', activation='relu'))\n",
    "model.add(Dropout(rate=dropout))\n",
    "model.add(Dense(num_classes, kernel_initializer='uniform', activation='softmax'))\n",
    "\n",
    "\n",
    "model.compile(loss='sparse_categorical_crossentropy', optimizer=optimizer,\n",
    "                  metrics=['accuracy'])\n"
   ]
  },
  {
   "cell_type": "code",
   "execution_count": 11,
   "metadata": {},
   "outputs": [
    {
     "name": "stdout",
     "output_type": "stream",
     "text": [
      "Model: \"sequential_1\"\n",
      "_________________________________________________________________\n",
      "Layer (type)                 Output Shape              Param #   \n",
      "=================================================================\n",
      "dense_1 (Dense)              (None, 3)                 24        \n",
      "_________________________________________________________________\n",
      "dropout_1 (Dropout)          (None, 3)                 0         \n",
      "_________________________________________________________________\n",
      "dense_2 (Dense)              (None, 3)                 12        \n",
      "_________________________________________________________________\n",
      "dropout_2 (Dropout)          (None, 3)                 0         \n",
      "_________________________________________________________________\n",
      "dense_3 (Dense)              (None, 8)                 32        \n",
      "=================================================================\n",
      "Total params: 68\n",
      "Trainable params: 68\n",
      "Non-trainable params: 0\n",
      "_________________________________________________________________\n",
      "[[0.12500331 0.1249878  0.12499991 0.12500173 0.12500486 0.12501216\n",
      "  0.12500061 0.12498967]\n",
      " [0.12500232 0.12499142 0.12499993 0.1250012  0.12500341 0.12500855\n",
      "  0.12500043 0.12499273]\n",
      " [0.12500218 0.12499649 0.12499917 0.12500037 0.12500115 0.12500374\n",
      "  0.12500027 0.12499671]\n",
      " [0.12500063 0.12499899 0.12499976 0.1250001  0.12500033 0.12500107\n",
      "  0.12500007 0.12499906]\n",
      " [0.12500039 0.12499919 0.12499987 0.12500009 0.12500027 0.12500083\n",
      "  0.12500004 0.12499926]\n",
      " [0.12500006 0.124993   0.12500085 0.12499934 0.1250049  0.12500417\n",
      "  0.12500197 0.12499573]\n",
      " [0.12500465 0.1249904  0.12499855 0.12500112 0.12500341 0.12500994\n",
      "  0.12500064 0.12499134]\n",
      " [0.12500101 0.12498841 0.12500097 0.12499972 0.12500708 0.1250083\n",
      "  0.12500246 0.12499211]\n",
      " [0.125      0.125      0.125      0.125      0.125      0.125\n",
      "  0.125      0.125     ]\n",
      " [0.125      0.125      0.125      0.125      0.125      0.125\n",
      "  0.125      0.125     ]\n",
      " [0.125      0.125      0.125      0.125      0.125      0.125\n",
      "  0.125      0.125     ]\n",
      " [0.125      0.125      0.125      0.125      0.125      0.125\n",
      "  0.125      0.125     ]\n",
      " [0.12500304 0.12498881 0.12499992 0.12500158 0.12500446 0.12501116\n",
      "  0.12500057 0.12499052]\n",
      " [0.12500271 0.12499    0.12499993 0.12500142 0.12500398 0.12500997\n",
      "  0.1250005  0.12499153]\n",
      " [0.1249998  0.1249961  0.1250006  0.12499942 0.12500302 0.12500195\n",
      "  0.12500133 0.12499785]]\n"
     ]
    }
   ],
   "source": [
    "model.summary()\n",
    "\n",
    "example_batch = train_features[:15]\n",
    "example_result = model.predict(example_batch)#Generates output predictions for the input samples.\n",
    "print(example_result)"
   ]
  },
  {
   "cell_type": "code",
   "execution_count": 12,
   "metadata": {},
   "outputs": [],
   "source": [
    "EPOCHS = 20\n",
    "\n",
    "history = model.fit(\n",
    "  train_features, train_labels,\n",
    "  epochs=EPOCHS, batch_size=512, validation_split = 0.2, verbose=0)#Trains the model for a given number of epochs (iterations on a dataset)"
   ]
  },
  {
   "cell_type": "code",
   "execution_count": 13,
   "metadata": {},
   "outputs": [
    {
     "name": "stdout",
     "output_type": "stream",
     "text": [
      "    val_loss  val_accuracy      loss  accuracy  epoch\n",
      "15  2.010522      0.430686  2.014368  0.415152     15\n",
      "16  2.006859      0.430686  2.010772  0.415152     16\n",
      "17  2.003153      0.430686  2.007195  0.415152     17\n",
      "18  1.999527      0.430686  2.003611  0.415152     18\n",
      "19  1.995908      0.430686  2.000080  0.415152     19\n"
     ]
    }
   ],
   "source": [
    "# Visualize the training progress\n",
    "hist = pd.DataFrame(history.history)\n",
    "hist['epoch'] = history.epoch\n",
    "print(hist.tail())"
   ]
  },
  {
   "cell_type": "code",
   "execution_count": 14,
   "metadata": {},
   "outputs": [
    {
     "data": {
      "image/png": "[encoded data removed]",
      "text/plain": [
       "<Figure size 432x288 with 1 Axes>"
      ]
     },
     "metadata": {
      "needs_background": "light"
     },
     "output_type": "display_data"
    },
    {
     "data": {
      "image/png": "[encoded data removed]",
      "text/plain": [
       "<Figure size 432x288 with 1 Axes>"
      ]
     },
     "metadata": {
      "needs_background": "light"
     },
     "output_type": "display_data"
    }
   ],
   "source": [
    "#Plotting the training and validation loss\n",
    "\n",
    "import matplotlib.pyplot as plt\n",
    "loss = history.history['loss']\n",
    "val_loss = history.history['val_loss']\n",
    "epochs = range(1, len(loss) + 1)\n",
    "plt.plot(epochs, loss, 'bo', label='Training loss')\n",
    "plt.plot(epochs, val_loss, 'b', label='Validation loss')\n",
    "plt.title('Training and validation loss')\n",
    "plt.xlabel('Epochs')\n",
    "plt.ylabel('Loss')\n",
    "plt.legend()\n",
    "plt.show()\n",
    "\n",
    "#Plotting the training and validation accuracy\n",
    "\n",
    "plt.clf() \n",
    "acc = history.history['accuracy']\n",
    "val_acc = history.history['val_accuracy']\n",
    "plt.plot(epochs, acc, 'bo', label='Training acc')\n",
    "plt.plot(epochs, val_acc, 'b', label='Validation acc')\n",
    "plt.title('Training and validation accuracy')\n",
    "plt.xlabel('Epochs')\n",
    "plt.ylabel('Loss')\n",
    "plt.legend()\n",
    "plt.show()"
   ]
  },
  {
   "cell_type": "code",
   "execution_count": 17,
   "metadata": {},
   "outputs": [
    {
     "name": "stdout",
     "output_type": "stream",
     "text": [
      "1592/1592 [==============================] - 0s 23us/step\n",
      "[1.9954290258225484, 0.4340452253818512]\n"
     ]
    }
   ],
   "source": [
    "results = model.evaluate(test_features, test_labels)\n",
    "\n",
    "print(results)"
   ]
  },
  {
   "cell_type": "code",
   "execution_count": 19,
   "metadata": {},
   "outputs": [],
   "source": [
    "predictions = model.predict(test_features)\n"
   ]
  },
  {
   "cell_type": "code",
   "execution_count": 20,
   "metadata": {},
   "outputs": [
    {
     "data": {
      "text/plain": [
       "(8,)"
      ]
     },
     "execution_count": 20,
     "metadata": {},
     "output_type": "execute_result"
    }
   ],
   "source": [
    "predictions[0].shape"
   ]
  },
  {
   "cell_type": "code",
   "execution_count": 21,
   "metadata": {},
   "outputs": [
    {
     "data": {
      "text/plain": [
       "1.0"
      ]
     },
     "execution_count": 21,
     "metadata": {},
     "output_type": "execute_result"
    }
   ],
   "source": [
    "np.sum(predictions[0])"
   ]
  },
  {
   "cell_type": "code",
   "execution_count": 22,
   "metadata": {},
   "outputs": [
    {
     "data": {
      "text/plain": [
       "2"
      ]
     },
     "execution_count": 22,
     "metadata": {},
     "output_type": "execute_result"
    }
   ],
   "source": [
    "np.argmax(predictions[0])"
   ]
  }
 ],
 "metadata": {
  "kernelspec": {
   "display_name": "Python 3",
   "language": "python",
   "name": "python3"
  },
  "language_info": {
   "codemirror_mode": {
    "name": "ipython",
    "version": 3
   },
   "file_extension": ".py",
   "mimetype": "text/x-python",
   "name": "python",
   "nbconvert_exporter": "python",
   "pygments_lexer": "ipython3",
   "version": "3.7.3"
  }
 },
 "nbformat": 4,
 "nbformat_minor": 1
}
