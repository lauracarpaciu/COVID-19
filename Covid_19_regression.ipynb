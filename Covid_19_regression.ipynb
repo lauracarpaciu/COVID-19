{
 "cells": [
  {
   "cell_type": "code",
   "execution_count": 46,
   "metadata": {},
   "outputs": [
    {
     "name": "stdout",
     "output_type": "stream",
     "text": [
      "   Province/State  Country/Region      Lat     Long     Date  Confirmed  \\\n",
      "0  Province/State  Country/Region      Lat     Long     Date  Confirmed   \n",
      "1             NaN     Afghanistan     33.0     65.0  1/22/20          0   \n",
      "2             NaN         Albania  41.1533  20.1683  1/22/20          0   \n",
      "3             NaN         Algeria  28.0339   1.6596  1/22/20          0   \n",
      "4             NaN         Andorra  42.5063   1.5218  1/22/20          0   \n",
      "\n",
      "   Deaths  Recovered  \n",
      "0  Deaths  Recovered  \n",
      "1       0          0  \n",
      "2       0          0  \n",
      "3       0          0  \n",
      "4       0          0  \n",
      "Province/State    object\n",
      "Country/Region    object\n",
      "Lat               object\n",
      "Long              object\n",
      "Date              object\n",
      "Confirmed         object\n",
      "Deaths            object\n",
      "Recovered         object\n",
      "dtype: object\n",
      "Province/State    11832\n",
      "Country/Region        0\n",
      "Lat                   0\n",
      "Long                  0\n",
      "Date                  0\n",
      "Confirmed             0\n",
      "Deaths                0\n",
      "Recovered             0\n",
      "dtype: int64\n",
      "                  Province/State  Country/Region       Lat      Long     Date  \\\n",
      "0                 Province/State  Country/Region       Lat      Long     Date   \n",
      "9   Australian Capital Territory       Australia  -35.4735  149.0124  1/22/20   \n",
      "10               New South Wales       Australia  -33.8688  151.2093  1/22/20   \n",
      "11            Northern Territory       Australia  -12.4634  130.8456  1/22/20   \n",
      "12                    Queensland       Australia  -28.0167     153.4  1/22/20   \n",
      "\n",
      "    Confirmed  Deaths  Recovered  \n",
      "0   Confirmed  Deaths  Recovered  \n",
      "9           0       0          0  \n",
      "10          0       0          0  \n",
      "11          0       0          0  \n",
      "12          0       0          0  \n"
     ]
    }
   ],
   "source": [
    "# Load the data\n",
    "import os\n",
    "from sklearn import preprocessing, metrics\n",
    "\n",
    "# Parameters\n",
    "do_grid_search_cv = True\n",
    "do_pca = False\n",
    "import requests\n",
    "\n",
    "import numpy as np\n",
    "import pandas as pd\n",
    "import seaborn as sns\n",
    "import matplotlib.pyplot as plt\n",
    "\n",
    "# Read in the CSV file and convert \"?\" to NaN\n",
    "\n",
    "original_data = pd.read_csv('C:/Users/Mirela/PycharmProjects/Covid_19/covid_19_clean_complete.csv',\n",
    "                            names=['Province/State','Country/Region','Lat','Long','Date','Confirmed','Deaths','Recovered'\n",
    "], sep=r'\\s*,\\s*',\n",
    "                            engine='python',\n",
    "                            na_values=\"?\")\n",
    "\n",
    "print(original_data.head())\n",
    "print(original_data.dtypes)\n",
    "\n",
    "print(original_data.isna().sum())\n",
    "original_data = original_data.dropna()\n",
    "print(original_data.head())\n",
    "\n"
   ]
  },
  {
   "cell_type": "code",
   "execution_count": 47,
   "metadata": {},
   "outputs": [
    {
     "name": "stdout",
     "output_type": "stream",
     "text": [
      "    Province/State  Country/Region  Lat  Long  Date  Confirmed  Deaths  \\\n",
      "0               54               3   77    78    68        682      83   \n",
      "9                4               0    9    68     0          0       0   \n",
      "10              46               0    7    70     0          0       0   \n",
      "11              49               0    0    64     0          0       0   \n",
      "12              57               0    5    71     0          0       0   \n",
      "\n",
      "    Recovered  \n",
      "0         605  \n",
      "9           0  \n",
      "10          0  \n",
      "11          0  \n",
      "12          0  \n"
     ]
    }
   ],
   "source": [
    "# Encode the categorical features as numbers\n",
    "result = original_data.copy()\n",
    "encoders = {}\n",
    "for column in result.columns:\n",
    "\n",
    "    if result.dtypes[column] == pd.np.object:\n",
    "        encoders[column] = preprocessing.LabelEncoder()\n",
    "        result[column] = encoders[column].fit_transform(result[column])\n",
    "\n",
    "features = result\n",
    "feature_names = features.columns.get_values()\n",
    "print(features.head())"
   ]
  },
  {
   "cell_type": "code",
   "execution_count": 48,
   "metadata": {},
   "outputs": [],
   "source": [
    "labels = np.array(features['Deaths']) # Create an array.\n",
    "\n",
    "# Remove the labels from the features\n",
    "# axis 1 refers to the columns\n",
    "\n",
    "features = features.drop('Deaths', axis=1) #  Remove columns by specifying label names and coresponding axis"
   ]
  },
  {
   "cell_type": "code",
   "execution_count": 49,
   "metadata": {},
   "outputs": [],
   "source": [
    "# data normalization\n",
    "from sklearn.preprocessing import Normalizer\n",
    "\n",
    "normalizer = Normalizer()\n",
    "features = normalizer.fit_transform(features)"
   ]
  },
  {
   "cell_type": "code",
   "execution_count": 50,
   "metadata": {},
   "outputs": [
    {
     "name": "stdout",
     "output_type": "stream",
     "text": [
      "Training Features Shape: (4244, 7)\n",
      "Training Labels Shape: (4244,)\n",
      "Testing Features Shape: (1061, 7)\n",
      "Testing Labels Shape: (1061,)\n"
     ]
    }
   ],
   "source": [
    "# Using Skicit-learn to split data into training and testing sets\n",
    "\n",
    "from sklearn.model_selection import train_test_split\n",
    "\n",
    "# Split data into random train and test subsets\n",
    "train_features, test_features, train_labels, test_labels = train_test_split(features, labels, test_size=0.2,\n",
    "                                                                            random_state=42)\n",
    "# returns list containing train-test split of inputs.\n",
    "\n",
    "print('Training Features Shape:', train_features.shape)\n",
    "print('Training Labels Shape:', train_labels.shape)\n",
    "print('Testing Features Shape:', test_features.shape)\n",
    "print('Testing Labels Shape:', test_labels.shape)"
   ]
  },
  {
   "cell_type": "code",
   "execution_count": 51,
   "metadata": {},
   "outputs": [],
   "source": [
    "import os\n",
    "from keras import Sequential\n",
    "from keras.layers import Dense, Dropout\n",
    "from sklearn import preprocessing, metrics\n",
    "\n",
    "input_dimensions = train_features.shape[1]\n",
    "optimizer = 'rmsprop'\n",
    "dropout = 0.05\n",
    "model = Sequential()\n",
    "inner_nodes = int(input_dimensions / 2)\n",
    "\n",
    "model.add(Dense(inner_nodes, kernel_initializer='uniform', activation='relu', input_dim=input_dimensions))\n",
    "model.add(Dropout(rate=dropout))\n",
    "model.add(Dense(inner_nodes, kernel_initializer='uniform', activation='relu'))\n",
    "model.add(Dropout(rate=dropout))\n",
    "model.add(Dense(1, kernel_initializer='uniform', activation='softmax'))\n",
    "\n",
    "model.compile(optimizer='rmsprop', loss='mean_squared_error', metrics=['mean_absolute_error', 'mean_squared_error'])#Configures the model for training"
   ]
  },
  {
   "cell_type": "code",
   "execution_count": 52,
   "metadata": {},
   "outputs": [
    {
     "name": "stdout",
     "output_type": "stream",
     "text": [
      "Model: \"sequential_5\"\n",
      "_________________________________________________________________\n",
      "Layer (type)                 Output Shape              Param #   \n",
      "=================================================================\n",
      "dense_12 (Dense)             (None, 3)                 24        \n",
      "_________________________________________________________________\n",
      "dropout_9 (Dropout)          (None, 3)                 0         \n",
      "_________________________________________________________________\n",
      "dense_13 (Dense)             (None, 3)                 12        \n",
      "_________________________________________________________________\n",
      "dropout_10 (Dropout)         (None, 3)                 0         \n",
      "_________________________________________________________________\n",
      "dense_14 (Dense)             (None, 1)                 4         \n",
      "=================================================================\n",
      "Total params: 40\n",
      "Trainable params: 40\n",
      "Non-trainable params: 0\n",
      "_________________________________________________________________\n",
      "[[1.]\n",
      " [1.]\n",
      " [1.]\n",
      " [1.]\n",
      " [1.]\n",
      " [1.]\n",
      " [1.]\n",
      " [1.]\n",
      " [1.]\n",
      " [1.]\n",
      " [1.]\n",
      " [1.]\n",
      " [1.]\n",
      " [1.]\n",
      " [1.]]\n"
     ]
    }
   ],
   "source": [
    "model.summary()\n",
    "\n",
    "example_batch = train_features[:15]\n",
    "example_result = model.predict(example_batch)#Generates output predictions for the input samples.\n",
    "print(example_result)"
   ]
  },
  {
   "cell_type": "code",
   "execution_count": 53,
   "metadata": {},
   "outputs": [],
   "source": [
    "EPOCHS = 100\n",
    "\n",
    "history = model.fit(\n",
    "  train_features, train_labels,\n",
    "  epochs=EPOCHS, batch_size=512, validation_split = 0.2, verbose=0)#Trains the model for a given number of epochs (iterations on a dataset)"
   ]
  },
  {
   "cell_type": "code",
   "execution_count": 54,
   "metadata": {},
   "outputs": [
    {
     "name": "stdout",
     "output_type": "stream",
     "text": [
      "     val_loss  val_mean_absolute_error  val_mean_squared_error        loss  \\\n",
      "95  531.58539                 9.877503              531.585388  531.551106   \n",
      "96  531.58539                 9.877503              531.585388  531.551106   \n",
      "97  531.58539                 9.877503              531.585388  531.551103   \n",
      "98  531.58539                 9.877503              531.585388  531.551103   \n",
      "99  531.58539                 9.877503              531.585388  531.551106   \n",
      "\n",
      "    mean_absolute_error  mean_squared_error  epoch  \n",
      "95             9.863328          531.551086     95  \n",
      "96             9.863328          531.551086     96  \n",
      "97             9.863328          531.551086     97  \n",
      "98             9.863328          531.551086     98  \n",
      "99             9.863328          531.551086     99  \n"
     ]
    }
   ],
   "source": [
    "# Visualize the training progress\n",
    "hist = pd.DataFrame(history.history)\n",
    "hist['epoch'] = history.epoch\n",
    "print(hist.tail())"
   ]
  },
  {
   "cell_type": "code",
   "execution_count": 55,
   "metadata": {},
   "outputs": [
    {
     "data": {
      "image/png": "[encoded data removed]",
      "text/plain": [
       "<Figure size 432x288 with 1 Axes>"
      ]
     },
     "metadata": {
      "needs_background": "light"
     },
     "output_type": "display_data"
    }
   ],
   "source": [
    "def plot_history(history):\n",
    "    hist = pd.DataFrame(history.history)\n",
    "    hist['epoch'] = history.epoch\n",
    "\n",
    "    plt.figure()\n",
    "    plt.xlabel('Epoch')\n",
    "    plt.ylabel('Mean Abs Error [MEDV]')\n",
    "    plt.plot(hist['epoch'], hist['mean_absolute_error'],\n",
    "             label='Train Error')\n",
    "    plt.plot(hist['epoch'], hist['val_mean_absolute_error'],\n",
    "             label='Val Error')\n",
    "    plt.ylim([0.5, 500])\n",
    "    plt.legend()\n",
    "    plt.show()\n",
    "\n",
    "\n",
    "plot_history(history)"
   ]
  },
  {
   "cell_type": "code",
   "execution_count": 56,
   "metadata": {},
   "outputs": [
    {
     "name": "stdout",
     "output_type": "stream",
     "text": [
      "1061/1061 [==============================] - 0s 46us/step\n",
      "Testing set Mean Abs Error:  8.85 MEDV \n"
     ]
    }
   ],
   "source": [
    "loss, mae, mse = model.evaluate(test_features, test_labels, batch_size=16)\n",
    "\n",
    "print(\"Testing set Mean Abs Error: {:5.2f} MEDV \".format(mae))"
   ]
  },
  {
   "cell_type": "code",
   "execution_count": 57,
   "metadata": {},
   "outputs": [
    {
     "data": {
      "image/png": "[encoded data removed]",
      "text/plain": [
       "<Figure size 432x288 with 1 Axes>"
      ]
     },
     "metadata": {
      "needs_background": "light"
     },
     "output_type": "display_data"
    }
   ],
   "source": [
    "# Make predictions\n",
    "\n",
    "test_predictions = model.predict(test_features).flatten()\n",
    "\n",
    "plt.scatter(test_labels, test_predictions)\n",
    "plt.xlabel('True Values [MEDV]')\n",
    "plt.ylabel('Predictions [MEDV]')\n",
    "plt.axis('equal')\n",
    "plt.axis('square')\n",
    "plt.xlim([0,plt.xlim()[1]])\n",
    "plt.ylim([0,plt.ylim()[1]])\n",
    "_ = plt.plot([-700, 700], [-700, 700])\n"
   ]
  },
  {
   "cell_type": "code",
   "execution_count": 58,
   "metadata": {},
   "outputs": [
    {
     "data": {
      "image/png": "[encoded data removed]",
      "text/plain": [
       "<Figure size 432x288 with 1 Axes>"
      ]
     },
     "metadata": {
      "needs_background": "light"
     },
     "output_type": "display_data"
    }
   ],
   "source": [
    "# error distribution\n",
    "error = test_predictions - test_labels\n",
    "plt.hist(error, bins = 25)\n",
    "plt.xlabel(\"Prediction Error [MEDV]\")\n",
    "_ = plt.ylabel(\"Count\")"
   ]
  }
 ],
 "metadata": {
  "kernelspec": {
   "display_name": "Python 3",
   "language": "python",
   "name": "python3"
  },
  "language_info": {
   "codemirror_mode": {
    "name": "ipython",
    "version": 3
   },
   "file_extension": ".py",
   "mimetype": "text/x-python",
   "name": "python",
   "nbconvert_exporter": "python",
   "pygments_lexer": "ipython3",
   "version": "3.7.3"
  }
 },
 "nbformat": 4,
 "nbformat_minor": 1
}
